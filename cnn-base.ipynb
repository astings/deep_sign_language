{
 "cells": [
  {
   "cell_type": "code",
   "execution_count": 1,
   "metadata": {
    "_cell_guid": "b1076dfc-b9ad-4769-8c92-a6c4dae69d19",
    "_uuid": "8f2839f25d086af736a60e9eeb907d3b93b6e0e5"
   },
   "outputs": [],
   "source": [
    "%matplotlib inline\n",
    "import numpy as np\n",
    "import pandas as pd\n",
    "import matplotlib.pyplot as plt\n",
    "import seaborn as sns\n",
    "import time \n",
    "import os, sys    \n",
    "import copy\n",
    "\n",
    "from sklearn.model_selection import train_test_split\n",
    "import torch\n",
    "import torch.nn as nn\n",
    "import torch.nn.functional as F\n",
    "\n",
    "import cnn_utils\n",
    "import global_defs\n",
    "\n",
    "import warnings\n",
    "warnings.filterwarnings('ignore')\n",
    "device = torch.device(\"cuda\")"
   ]
  },
  {
   "cell_type": "code",
   "execution_count": 2,
   "metadata": {
    "_cell_guid": "79c7e3d0-c299-4dcb-8224-4455121ee9b0",
    "_uuid": "d629ff2d2480ee46fbb7e2d37f6b5fab8052498a"
   },
   "outputs": [],
   "source": [
    "train_image_file = 'sign_mnist_train.csv'\n",
    "\n",
    "test_image_file = 'sign_mnist_test.csv'"
   ]
  },
  {
   "cell_type": "code",
   "execution_count": 3,
   "metadata": {},
   "outputs": [],
   "source": [
    "train = pd.read_csv(train_image_file)\n",
    "\n",
    "train_labels = train['label'].values\n",
    "\n",
    "train.drop('label', axis = 1, inplace = True)\n",
    "\n",
    "train_images = train.values\n",
    "train_images = train_images.reshape(train_images.shape[0], 28, 28)"
   ]
  },
  {
   "cell_type": "code",
   "execution_count": 4,
   "metadata": {},
   "outputs": [],
   "source": [
    "test = pd.read_csv(test_image_file)\n",
    "\n",
    "test_labels = test['label'].values\n",
    "\n",
    "test.drop('label', axis = 1, inplace = True)\n",
    "    \n",
    "test_images = test.values\n",
    "test_images = test_images.reshape(test_images.shape[0], 28, 28)"
   ]
  },
  {
   "cell_type": "code",
   "execution_count": 5,
   "metadata": {},
   "outputs": [],
   "source": [
    "class convnet(nn.Module):\n",
    "\n",
    "    def __init__(self, classes, dropout1):\n",
    "\n",
    "        super(convnet, self).__init__()\n",
    "        \n",
    "        # CL1:   28 x 28  -->    64 x 28 x 28 \n",
    "        self.conv1 = nn.Conv2d(1, 64, kernel_size=3, padding=1)\n",
    "        \n",
    "        # MP1: 64 x 28 x 28 -->    64 x 14 x 14\n",
    "        self.pool1  = nn.MaxPool2d(2,2)\n",
    "        \n",
    "        # CL2:   64 x 14 x 14  -->    64 x 14 x 14 \n",
    "        self.conv2 = nn.Conv2d(64,  64,  kernel_size=3, padding=1 )\n",
    "        \n",
    "        # MP2: 64 x 14 x 14  -->    64 x 7 x 7\n",
    "        self.pool2 = nn.MaxPool2d(2,2)\n",
    "        \n",
    "        # CL3:   64 x 7 x 7  -->    64 x 7 x 7 \n",
    "        self.conv3 = nn.Conv2d(64,  64,  kernel_size=3, padding=1 )\n",
    "        \n",
    "        self.to_pad = 1\n",
    "        # MP3: 64 x 7 x 7  -->    64 x 4 x 4 or 64 x 3 x 3, depending on padding\n",
    "        self.pool3 = nn.MaxPool2d(2,2, padding=self.to_pad)\n",
    "        \n",
    "        if self.to_pad:\n",
    "            # LL1:   64 x 4 x 4 = 1024 -->  128 \n",
    "            self.linear1 = nn.Linear(1024, 128)\n",
    "        else:\n",
    "            # LL1:   64 x 3 x 3 = 576 -->  128 \n",
    "            self.linear1 = nn.Linear(576, 128)\n",
    "        \n",
    "        self.dropout1 = nn.Dropout(dropout1) \n",
    "        \n",
    "        # LL2:   128  -->  classes\n",
    "        self.linear2 = nn.Linear(128, classes)\n",
    "\n",
    "\n",
    "    def forward(self, x):\n",
    "\n",
    "        # CL1:   28 x 28  -->    64 x 28 x 28 \n",
    "        x = self.conv1(x)\n",
    "        x = F.relu(x)\n",
    "        \n",
    "        # MP1: 64 x 28 x 28 -->    64 x 14 x 14\n",
    "        x = self.pool1(x)\n",
    "        \n",
    "        # CL2:   64 x 14 x 14  -->    64 x 14 x 14 \n",
    "        x = self.conv2(x)\n",
    "        x = F.relu(x)\n",
    "        \n",
    "        # MP2: 64 x 14 x 14  -->    64 x 7 x 7\n",
    "        x = self.pool2(x)\n",
    "\n",
    "        # CL3:   64 x 7 x 7  -->    64 x 7 x 7 \n",
    "        x = self.conv3(x)\n",
    "        x = F.relu(x)\n",
    "        \n",
    "        # MP3: 64 x 7 x 7  -->    64 x 4 x 4 or 64 x 3 x 3, depending on padding\n",
    "        x = self.pool3(x)\n",
    "        \n",
    "        \n",
    "        # LL1 \n",
    "        if self.to_pad: x = x.view(-1, 1024)   ### reshape\n",
    "        else: x = x.view(-1, 576)\n",
    "        x = self.linear1(x)\n",
    "        x = F.relu(x)\n",
    "        \n",
    "        \n",
    "        # Droput\n",
    "        x = self.dropout1(x)\n",
    "        \n",
    "        # LL2:   128  -->  classes\n",
    "        x = self.linear2(x)\n",
    "    \n",
    "        return x\n",
    " "
   ]
  },
  {
   "cell_type": "code",
   "execution_count": 6,
   "metadata": {},
   "outputs": [],
   "source": [
    "def display_num_param(self, net):\n",
    "        nb_param = 0\n",
    "        for param in net.parameters():\n",
    "            nb_param += param.numel()\n",
    "        print('There are {} ({:.2f} million) parameters in this neural network'.format(\n",
    "            nb_param, nb_param/1e6)\n",
    "            )\n"
   ]
  },
  {
   "cell_type": "markdown",
   "metadata": {},
   "source": [
    "We observed the fastest rate of training convergence (over 100 epochs) for this network with learning rate of 0.001. This value is divided by 1.5 after every 10th epoch of training. "
   ]
  },
  {
   "cell_type": "code",
   "execution_count": 7,
   "metadata": {},
   "outputs": [],
   "source": [
    "my_lr = 0.001 \n",
    "\n",
    "epochs = 10\n",
    "\n",
    "batch_size = 128         \n",
    "    \n",
    "classes = 26  #### possible characters\n",
    "\n",
    "CNNutils = cnn_utils.CNN_Utils(my_lr, batch_size, epochs)\n",
    "\n",
    "model_name = 'Cnet_Kaggle'"
   ]
  },
  {
   "cell_type": "markdown",
   "metadata": {},
   "source": [
    "## Cross Validation (CV)\n",
    "\n",
    "The check the performance of the network on samples from training set, the data is randomly split into 90% training and 10% validation portions in 10 iterations of CV.\n"
   ]
  },
  {
   "cell_type": "code",
   "execution_count": 8,
   "metadata": {},
   "outputs": [],
   "source": [
    "def CrossEval(dropout):\n",
    "    \n",
    "        CV = 10\n",
    "        \n",
    "        train_history_over_CV = []\n",
    "        val_history_over_CV = []\n",
    "\n",
    "        for cv in range(CV):\n",
    "            \n",
    "            train_data, validation_data, train_lbls, validation_lbls = CNNutils.prep_train_validate_data(train_images, train_labels, split=0.10)\n",
    "            \n",
    "            if cv==0:\n",
    "                print('Train Data Shape: ', train_data.shape, '\\nValidation Data Shape: ', validation_data.shape)\n",
    "                print('\\n')\n",
    "                            \n",
    "            print('CV Iteration :', cv)\n",
    "\n",
    "            Cnet = convnet(classes, dropout).double()\n",
    "            \n",
    "            device = torch.device('cuda')\n",
    "            \n",
    "            Cnet = Cnet.cuda()\n",
    "\n",
    "            train_history, validation_history = CNNutils.train_Cnet(Cnet, train_data, train_lbls, validation_data, validation_lbls, device)        \n",
    "            \n",
    "            train_history_over_CV.append(train_history)\n",
    "            val_history_over_CV.append(validation_history)\n",
    "            \n",
    "            del Cnet\n",
    "\n",
    "            \n",
    "            \n",
    "        CNNutils.plot_CV_history(copy.deepcopy(train_history_over_CV), copy.deepcopy(val_history_over_CV))\n",
    "       "
   ]
  },
  {
   "cell_type": "code",
   "execution_count": 9,
   "metadata": {},
   "outputs": [
    {
     "name": "stdout",
     "output_type": "stream",
     "text": [
      "Train Data Shape:  torch.Size([24709, 28, 28]) \n",
      "Validation Data Shape:  torch.Size([2746, 28, 28])\n",
      "\n",
      "\n",
      "CV Iteration : 0\n",
      "CV Iteration : 1\n",
      "CV Iteration : 2\n",
      "CV Iteration : 3\n",
      "CV Iteration : 4\n",
      "CV Iteration : 5\n",
      "CV Iteration : 6\n",
      "CV Iteration : 7\n",
      "CV Iteration : 8\n",
      "CV Iteration : 9\n"
     ]
    },
    {
     "data": {
      "image/png": "[encoded data removed]",
      "text/plain": [
       "<Figure size 1296x432 with 2 Axes>"
      ]
     },
     "metadata": {
      "needs_background": "light"
     },
     "output_type": "display_data"
    }
   ],
   "source": [
    "dropout = 0.2\n",
    "\n",
    "CrossEval(dropout)"
   ]
  },
  {
   "cell_type": "markdown",
   "metadata": {},
   "source": [
    "## Full Training\n",
    "\n",
    "Here, we train the CNN on entire training dataset while simultaneuosly evaluating on the actual test data.\n"
   ]
  },
  {
   "cell_type": "code",
   "execution_count": 10,
   "metadata": {},
   "outputs": [],
   "source": [
    "def FullTrain(dropout):   \n",
    "                \n",
    "        Cnet = convnet(classes, dropout).double()\n",
    "        Cnet = Cnet.cuda()\n",
    "        \n",
    "        train_data, _, train_lbls, _ = CNNutils.prep_train_validate_data(train_images, train_labels, split=0.00)\n",
    "        test_data, test_lbls = CNNutils.prep_test_data(test_images, test_labels)\n",
    "        \n",
    "        print('Train Data Shape: ', train_data.shape, '\\nTest Data Shape: ', test_data.shape)\n",
    "        print('\\n')\n",
    "        \n",
    "        train_history, test_history = CNNutils.train_Cnet(Cnet, train_data, train_lbls, test_data, test_lbls, device)\n",
    "        CNNutils.plot_FullTrain_history(train_history, test_history)\n",
    "      \n",
    "        del Cnet"
   ]
  },
  {
   "cell_type": "code",
   "execution_count": 11,
   "metadata": {},
   "outputs": [
    {
     "ename": "NameError",
     "evalue": "name 'device' is not defined",
     "output_type": "error",
     "traceback": [
      "\u001b[0;31m---------------------------------------------------------------------------\u001b[0m",
      "\u001b[0;31mNameError\u001b[0m                                 Traceback (most recent call last)",
      "\u001b[0;32m<ipython-input-11-2fc83bdd0707>\u001b[0m in \u001b[0;36m<module>\u001b[0;34m\u001b[0m\n\u001b[1;32m      1\u001b[0m \u001b[0mdropout\u001b[0m \u001b[0;34m=\u001b[0m \u001b[0;36m0.2\u001b[0m\u001b[0;34m\u001b[0m\u001b[0m\n\u001b[1;32m      2\u001b[0m \u001b[0;34m\u001b[0m\u001b[0m\n\u001b[0;32m----> 3\u001b[0;31m \u001b[0mFullTrain\u001b[0m\u001b[0;34m(\u001b[0m\u001b[0mmodel_name\u001b[0m\u001b[0;34m,\u001b[0m \u001b[0mdropout\u001b[0m\u001b[0;34m)\u001b[0m\u001b[0;34m\u001b[0m\u001b[0m\n\u001b[0m",
      "\u001b[0;32m<ipython-input-10-bf2fc291fbf6>\u001b[0m in \u001b[0;36mFullTrain\u001b[0;34m(model_name, dropout)\u001b[0m\n\u001b[1;32m      5\u001b[0m         \u001b[0mCnet\u001b[0m \u001b[0;34m=\u001b[0m \u001b[0mconvnet\u001b[0m\u001b[0;34m(\u001b[0m\u001b[0mclasses\u001b[0m\u001b[0;34m,\u001b[0m \u001b[0mdropout\u001b[0m\u001b[0;34m)\u001b[0m\u001b[0;34m.\u001b[0m\u001b[0mdouble\u001b[0m\u001b[0;34m(\u001b[0m\u001b[0;34m)\u001b[0m\u001b[0;34m\u001b[0m\u001b[0m\n\u001b[1;32m      6\u001b[0m \u001b[0;34m\u001b[0m\u001b[0m\n\u001b[0;32m----> 7\u001b[0;31m         \u001b[0;32mif\u001b[0m \u001b[0mdevice\u001b[0m\u001b[0;34m.\u001b[0m\u001b[0mtype\u001b[0m \u001b[0;34m==\u001b[0m \u001b[0;34m\"cuda\"\u001b[0m\u001b[0;34m:\u001b[0m\u001b[0;34m\u001b[0m\u001b[0m\n\u001b[0m\u001b[1;32m      8\u001b[0m             \u001b[0mCnet\u001b[0m \u001b[0;34m=\u001b[0m \u001b[0mCnet\u001b[0m\u001b[0;34m.\u001b[0m\u001b[0mcuda\u001b[0m\u001b[0;34m(\u001b[0m\u001b[0;34m)\u001b[0m\u001b[0;34m\u001b[0m\u001b[0m\n\u001b[1;32m      9\u001b[0m \u001b[0;34m\u001b[0m\u001b[0m\n",
      "\u001b[0;31mNameError\u001b[0m: name 'device' is not defined"
     ]
    }
   ],
   "source": [
    "dropout = 0.2\n",
    "\n",
    "FullTrain(dropout)"
   ]
  }
 ],
 "metadata": {
  "kernelspec": {
   "display_name": "Python 3",
   "language": "python",
   "name": "python3"
  },
  "language_info": {
   "codemirror_mode": {
    "name": "ipython",
    "version": 3
   },
   "file_extension": ".py",
   "mimetype": "text/x-python",
   "name": "python",
   "nbconvert_exporter": "python",
   "pygments_lexer": "ipython3",
   "version": "3.7.6"
  },
  "pycharm": {
   "stem_cell": {
    "cell_type": "raw",
    "metadata": {
     "collapsed": false
    },
    "source": []
   }
  }
 },
 "nbformat": 4,
 "nbformat_minor": 4
}
